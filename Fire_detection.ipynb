{
  "nbformat": 4,
  "nbformat_minor": 0,
  "metadata": {
    "colab": {
      "name": "Thermal Images.ipynb",
      "private_outputs": true,
      "provenance": [],
      "include_colab_link": true
    },
    "kernelspec": {
      "name": "python3",
      "display_name": "Python 3"
    },
    "language_info": {
      "name": "python"
    }
  },
  "cells": [
    {
      "cell_type": "markdown",
      "metadata": {
        "id": "view-in-github",
        "colab_type": "text"
      },
      "source": [
        "<a href=\"https://colab.research.google.com/github/rohanjha04/IITI_SoC_2022_AUTO_2_AerialSurveyingWithDrone/blob/master/Fire_detection.ipynb\" target=\"_parent\"><img src=\"https://colab.research.google.com/assets/colab-badge.svg\" alt=\"Open In Colab\"/></a>"
      ]
    },
    {
      "cell_type": "code",
      "execution_count": null,
      "metadata": {
        "id": "WexdS3_rM_ug"
      },
      "outputs": [],
      "source": [
        "import numpy as np\n",
        "import cv2"
      ]
    },
    {
      "cell_type": "code",
      "source": [
        "from google.colab.patches import cv2_imshow\n",
        "img= cv2.imread('/content/camera_image5.jpeg')"
      ],
      "metadata": {
        "id": "te49tWiPpQG6"
      },
      "execution_count": null,
      "outputs": []
    },
    {
      "cell_type": "code",
      "source": [
        "cv2_imshow(img)"
      ],
      "metadata": {
        "id": "fIQJFOx1pvtH"
      },
      "execution_count": null,
      "outputs": []
    },
    {
      "cell_type": "code",
      "source": [
        "img_gray= cv2.cvtColor(img, cv2.COLOR_BGR2GRAY)\n",
        "cv2_imshow(img_gray)"
      ],
      "metadata": {
        "id": "xYK7qPf1qmCk"
      },
      "execution_count": null,
      "outputs": []
    },
    {
      "cell_type": "code",
      "source": [
        "print(img_gray.max())\n",
        "print(img_gray.size)"
      ],
      "metadata": {
        "id": "K6X8JgoZrCH4"
      },
      "execution_count": null,
      "outputs": []
    },
    {
      "cell_type": "code",
      "source": [
        "k= 0\n",
        "for i in range(0, len(img_gray)):\n",
        "  for j in range(0, len(img_gray[0])):\n",
        "    if(img_gray[i][j]>150):\n",
        "      k=k+1\n",
        "      img_gray[i][j]= 255\n",
        "    else:\n",
        "      img_gray[i][j]= 0\n",
        "    j=j+1\n",
        "  i=i+1"
      ],
      "metadata": {
        "id": "r-zYUtyRrvJG"
      },
      "execution_count": null,
      "outputs": []
    },
    {
      "cell_type": "code",
      "source": [
        "cv2_imshow(img_gray)\n",
        "print(k)"
      ],
      "metadata": {
        "id": "fc-0AiecsorW"
      },
      "execution_count": null,
      "outputs": []
    },
    {
      "cell_type": "code",
      "source": [
        "if(k>800):\n",
        "  print('Potential fire!')"
      ],
      "metadata": {
        "id": "kWogsPZuW9r7"
      },
      "execution_count": null,
      "outputs": []
    }
  ]
}